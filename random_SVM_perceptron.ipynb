{
 "cells": [
  {
   "cell_type": "code",
   "execution_count": 1,
   "id": "406d4d95",
   "metadata": {
    "_cell_guid": "b1076dfc-b9ad-4769-8c92-a6c4dae69d19",
    "_uuid": "8f2839f25d086af736a60e9eeb907d3b93b6e0e5",
    "execution": {
     "iopub.execute_input": "2024-04-25T02:13:20.868298Z",
     "iopub.status.busy": "2024-04-25T02:13:20.867770Z",
     "iopub.status.idle": "2024-04-25T02:13:42.991857Z",
     "shell.execute_reply": "2024-04-25T02:13:42.990411Z"
    },
    "papermill": {
     "duration": 22.133875,
     "end_time": "2024-04-25T02:13:42.994495",
     "exception": false,
     "start_time": "2024-04-25T02:13:20.860620",
     "status": "completed"
    },
    "tags": []
   },
   "outputs": [
    {
     "name": "stdout",
     "output_type": "stream",
     "text": [
      "/kaggle/input/comp90051-2024s1-project-1/test_data.json\n",
      "/kaggle/input/comp90051-2024s1-project-1/sample.csv\n",
      "/kaggle/input/comp90051-2024s1-project-1/domain2_train_data.json\n",
      "/kaggle/input/comp90051-2024s1-project-1/domain1_train_data.json\n"
     ]
    }
   ],
   "source": [
    "import numpy as np # linear algebra\n",
    "import pandas as pd # data processing, CSV file I/O (e.g. pd.read_csv)\n",
    "import json\n",
    "from imblearn.under_sampling import RandomUnderSampler\n",
    "from imblearn.over_sampling import RandomOverSampler\n",
    "from gensim.models import Word2Vec\n",
    "from sklearn.feature_extraction.text import TfidfVectorizer\n",
    "from sklearn.svm import SVC\n",
    "from sklearn.ensemble import RandomForestClassifier\n",
    "from sklearn.metrics import accuracy_score, classification_report# This Python 3 environment comes with many helpful analytics libraries installed\n",
    "# It is defined by the kaggle/python Docker image: https://github.com/kaggle/docker-python\n",
    "# For example, here's several helpful packages to load\n",
    "from sklearn.preprocessing import FunctionTransformer\n",
    "import numpy as np # linear algebra\n",
    "import pandas as pd # data processing, CSV file I/O (e.g. pd.read_csv)\n",
    "from sklearn.pipeline import Pipeline\n",
    "from sklearn.ensemble import StackingClassifier\n",
    "from sklearn.linear_model import LogisticRegression\n",
    "from sklearn.base import BaseEstimator, ClassifierMixin\n",
    "import torch\n",
    "from sklearn.linear_model import Perceptron\n",
    "\n",
    "\n",
    "\n",
    "# Input data files are available in the read-only \"../input/\" directory\n",
    "# For example, running this (by clicking run or pressing Shift+Enter) will list all files under the input directory\n",
    "\n",
    "import os\n",
    "for dirname, _, filenames in os.walk('/kaggle/input'):\n",
    "    for filename in filenames:\n",
    "        print(os.path.join(dirname, filename))\n",
    "\n",
    "# You can write up to 20GB to the current directory (/kaggle/working/) that gets preserved as output when you create a version using \"Save & Run All\" \n",
    "# You can also write temporary files to /kaggle/temp/, but they won't be saved outside of the current session"
   ]
  },
  {
   "cell_type": "code",
   "execution_count": 2,
   "id": "c8c97a86",
   "metadata": {
    "execution": {
     "iopub.execute_input": "2024-04-25T02:13:43.006548Z",
     "iopub.status.busy": "2024-04-25T02:13:43.005863Z",
     "iopub.status.idle": "2024-04-25T02:13:43.017748Z",
     "shell.execute_reply": "2024-04-25T02:13:43.016791Z"
    },
    "papermill": {
     "duration": 0.020506,
     "end_time": "2024-04-25T02:13:43.019979",
     "exception": false,
     "start_time": "2024-04-25T02:13:42.999473",
     "status": "completed"
    },
    "tags": []
   },
   "outputs": [],
   "source": [
    "domain1_path = r\"/kaggle/input/comp90051-2024s1-project-1/domain1_train_data.json\" \n",
    "domain2_path = r\"/kaggle/input/comp90051-2024s1-project-1/domain2_train_data.json\"\n",
    "domain3_path = r\"/kaggle/input/comp90051-2024s1-project-1/test_data.json\"\n",
    "\n",
    "def sentence_to_vector(sentence, model):\n",
    "    vectors = [model.wv[word] for word in sentence if word in model.wv]\n",
    "    if vectors:\n",
    " \n",
    "        mean_vector = np.mean(np.array(vectors), axis=0)\n",
    "\n",
    "        return mean_vector.tolist()\n",
    "    else:\n",
    "        oov_words_list.extend([word for word in sentence if word not in model.wv])\n",
    "        print(oov_words_list)\n",
    "        return [0] * model.vector_size\n",
    "\n",
    "def read_in_data(file_path):\n",
    "    with open(file_path, 'r') as file:\n",
    "        file_content = file.read()\n",
    "\n",
    "    json_strings = file_content.strip().split('\\n')\n",
    "    data_list = []\n",
    "    for json_string in json_strings:\n",
    "        data = json.loads(json_string)\n",
    "        data_list.append(data)\n",
    "    df = pd.DataFrame(data_list)\n",
    "\n",
    "    return df"
   ]
  },
  {
   "cell_type": "code",
   "execution_count": 3,
   "id": "1ac7e139",
   "metadata": {
    "execution": {
     "iopub.execute_input": "2024-04-25T02:13:43.032097Z",
     "iopub.status.busy": "2024-04-25T02:13:43.031451Z",
     "iopub.status.idle": "2024-04-25T02:13:45.120952Z",
     "shell.execute_reply": "2024-04-25T02:13:45.119647Z"
    },
    "papermill": {
     "duration": 2.099163,
     "end_time": "2024-04-25T02:13:45.123920",
     "exception": false,
     "start_time": "2024-04-25T02:13:43.024757",
     "status": "completed"
    },
    "tags": []
   },
   "outputs": [
    {
     "name": "stdout",
     "output_type": "stream",
     "text": [
      "Domain 1 dataset has 5000 instances with average length 181.6522\n",
      "Domain 2 dataset has 13000 instances with average length 264.12984615384613\n",
      "Domain combined dataset has 18000 instances with average length 241.2193888888889\n"
     ]
    }
   ],
   "source": [
    "df1 = read_in_data(domain1_path)\n",
    "df2 = read_in_data(domain2_path)\n",
    "df3 =  read_in_data(domain3_path)\n",
    "df_combined= pd.concat([df1, df2], axis=0, ignore_index=True)\n",
    "sentences = df_combined['text'].tolist()\n",
    "av_len1 = df1['text'].apply(lambda x: len(x)).mean()\n",
    "av_len2 = df2['text'].apply(lambda x: len(x)).mean()\n",
    "av_len3 = df_combined['text'].apply(lambda x: len(x)).mean()\n",
    "print(\"Domain 1 dataset has\", len(df1), \"instances with average length\", av_len1)\n",
    "print(\"Domain 2 dataset has\", len(df2), \"instances with average length\", av_len2)\n",
    "print(\"Domain combined dataset has\", len(df_combined), \"instances with average length\", av_len3)\n",
    "X = pd.DataFrame(df2[['text', 'id']])\n",
    "y = pd.DataFrame(df2['label'])\n",
    "rus = RandomUnderSampler(sampling_strategy={0: 2500})\n",
    "\n",
    "X_undersampled, y_undersampled = rus.fit_resample(X, y)\n",
    "df2_undersampled = pd.DataFrame(X_undersampled, columns=X.columns)\n",
    "df2_undersampled['label'] = y_undersampled \n",
    "X = pd.DataFrame(df2_undersampled[['text', 'id']])\n",
    "y = pd.DataFrame(df2_undersampled['label'])\n",
    "ros = RandomOverSampler( random_state=0)\n",
    "X_resampled, y_resampled = ros.fit_resample(X, y)\n",
    "df2_resampled = pd.DataFrame(X_resampled, columns=X.columns)\n",
    "df2_resampled['label'] = y_resampled\n",
    "df_training= pd.concat([df1, df2_resampled], axis=0, ignore_index=True)\n",
    "#df_testing= pd.concat([df1, df2], axis=0, ignore_index=True)\n",
    "# Assuming df_training is your DataFrame containing the 'text' column\n",
    "df_training['text'] = df_training['text'].apply(lambda x: [token for token in x if token != 0])\n",
    "\n",
    "df_testing=df3\n",
    "df_vocab_training=pd.concat([df_combined, df_testing], axis=0, ignore_index=True)"
   ]
  },
  {
   "cell_type": "code",
   "execution_count": 4,
   "id": "6011a184",
   "metadata": {
    "execution": {
     "iopub.execute_input": "2024-04-25T02:13:45.136348Z",
     "iopub.status.busy": "2024-04-25T02:13:45.135390Z",
     "iopub.status.idle": "2024-04-25T02:14:09.215391Z",
     "shell.execute_reply": "2024-04-25T02:14:09.214104Z"
    },
    "papermill": {
     "duration": 24.089823,
     "end_time": "2024-04-25T02:14:09.218864",
     "exception": false,
     "start_time": "2024-04-25T02:13:45.129041",
     "status": "completed"
    },
    "tags": []
   },
   "outputs": [
    {
     "data": {
      "text/html": [
       "<style>#sk-container-id-1 {color: black;background-color: white;}#sk-container-id-1 pre{padding: 0;}#sk-container-id-1 div.sk-toggleable {background-color: white;}#sk-container-id-1 label.sk-toggleable__label {cursor: pointer;display: block;width: 100%;margin-bottom: 0;padding: 0.3em;box-sizing: border-box;text-align: center;}#sk-container-id-1 label.sk-toggleable__label-arrow:before {content: \"▸\";float: left;margin-right: 0.25em;color: #696969;}#sk-container-id-1 label.sk-toggleable__label-arrow:hover:before {color: black;}#sk-container-id-1 div.sk-estimator:hover label.sk-toggleable__label-arrow:before {color: black;}#sk-container-id-1 div.sk-toggleable__content {max-height: 0;max-width: 0;overflow: hidden;text-align: left;background-color: #f0f8ff;}#sk-container-id-1 div.sk-toggleable__content pre {margin: 0.2em;color: black;border-radius: 0.25em;background-color: #f0f8ff;}#sk-container-id-1 input.sk-toggleable__control:checked~div.sk-toggleable__content {max-height: 200px;max-width: 100%;overflow: auto;}#sk-container-id-1 input.sk-toggleable__control:checked~label.sk-toggleable__label-arrow:before {content: \"▾\";}#sk-container-id-1 div.sk-estimator input.sk-toggleable__control:checked~label.sk-toggleable__label {background-color: #d4ebff;}#sk-container-id-1 div.sk-label input.sk-toggleable__control:checked~label.sk-toggleable__label {background-color: #d4ebff;}#sk-container-id-1 input.sk-hidden--visually {border: 0;clip: rect(1px 1px 1px 1px);clip: rect(1px, 1px, 1px, 1px);height: 1px;margin: -1px;overflow: hidden;padding: 0;position: absolute;width: 1px;}#sk-container-id-1 div.sk-estimator {font-family: monospace;background-color: #f0f8ff;border: 1px dotted black;border-radius: 0.25em;box-sizing: border-box;margin-bottom: 0.5em;}#sk-container-id-1 div.sk-estimator:hover {background-color: #d4ebff;}#sk-container-id-1 div.sk-parallel-item::after {content: \"\";width: 100%;border-bottom: 1px solid gray;flex-grow: 1;}#sk-container-id-1 div.sk-label:hover label.sk-toggleable__label {background-color: #d4ebff;}#sk-container-id-1 div.sk-serial::before {content: \"\";position: absolute;border-left: 1px solid gray;box-sizing: border-box;top: 0;bottom: 0;left: 50%;z-index: 0;}#sk-container-id-1 div.sk-serial {display: flex;flex-direction: column;align-items: center;background-color: white;padding-right: 0.2em;padding-left: 0.2em;position: relative;}#sk-container-id-1 div.sk-item {position: relative;z-index: 1;}#sk-container-id-1 div.sk-parallel {display: flex;align-items: stretch;justify-content: center;background-color: white;position: relative;}#sk-container-id-1 div.sk-item::before, #sk-container-id-1 div.sk-parallel-item::before {content: \"\";position: absolute;border-left: 1px solid gray;box-sizing: border-box;top: 0;bottom: 0;left: 50%;z-index: -1;}#sk-container-id-1 div.sk-parallel-item {display: flex;flex-direction: column;z-index: 1;position: relative;background-color: white;}#sk-container-id-1 div.sk-parallel-item:first-child::after {align-self: flex-end;width: 50%;}#sk-container-id-1 div.sk-parallel-item:last-child::after {align-self: flex-start;width: 50%;}#sk-container-id-1 div.sk-parallel-item:only-child::after {width: 0;}#sk-container-id-1 div.sk-dashed-wrapped {border: 1px dashed gray;margin: 0 0.4em 0.5em 0.4em;box-sizing: border-box;padding-bottom: 0.4em;background-color: white;}#sk-container-id-1 div.sk-label label {font-family: monospace;font-weight: bold;display: inline-block;line-height: 1.2em;}#sk-container-id-1 div.sk-label-container {text-align: center;}#sk-container-id-1 div.sk-container {/* jupyter's `normalize.less` sets `[hidden] { display: none; }` but bootstrap.min.css set `[hidden] { display: none !important; }` so we also need the `!important` here to be able to override the default hidden behavior on the sphinx rendered scikit-learn.org. See: https://github.com/scikit-learn/scikit-learn/issues/21755 */display: inline-block !important;position: relative;}#sk-container-id-1 div.sk-text-repr-fallback {display: none;}</style><div id=\"sk-container-id-1\" class=\"sk-top-container\"><div class=\"sk-text-repr-fallback\"><pre>TfidfVectorizer(token_pattern=&#x27;\\\\b\\\\d+\\\\b&#x27;)</pre><b>In a Jupyter environment, please rerun this cell to show the HTML representation or trust the notebook. <br />On GitHub, the HTML representation is unable to render, please try loading this page with nbviewer.org.</b></div><div class=\"sk-container\" hidden><div class=\"sk-item\"><div class=\"sk-estimator sk-toggleable\"><input class=\"sk-toggleable__control sk-hidden--visually\" id=\"sk-estimator-id-1\" type=\"checkbox\" checked><label for=\"sk-estimator-id-1\" class=\"sk-toggleable__label sk-toggleable__label-arrow\">TfidfVectorizer</label><div class=\"sk-toggleable__content\"><pre>TfidfVectorizer(token_pattern=&#x27;\\\\b\\\\d+\\\\b&#x27;)</pre></div></div></div></div></div>"
      ],
      "text/plain": [
       "TfidfVectorizer(token_pattern='\\\\b\\\\d+\\\\b')"
      ]
     },
     "execution_count": 4,
     "metadata": {},
     "output_type": "execute_result"
    }
   ],
   "source": [
    "sentences_training = df_combined['text'].tolist()\n",
    "Vocab_model = Word2Vec(sentences_training, vector_size=100, window=4, min_count=10, workers=4)\n",
    "def sentence_to_vector(sentence, model):\n",
    "    vectors = [model.wv[word] for word in sentence if word in model.wv]\n",
    "    if vectors:\n",
    " \n",
    "        mean_vector = np.mean(np.array(vectors), axis=0)\n",
    "        return mean_vector.tolist()\n",
    "    else:\n",
    "        return [0] * model.vector_size \n",
    "def sentences_to_vectors(sentences, model):\n",
    "    return np.array([sentence_to_vector(sentence, model) for sentence in sentences]).tolist()\n",
    "\n",
    "def tfidf_preprocess(X):\n",
    "    return [' '.join(map(str, doc)) for doc in X]\n",
    "\n",
    "df_combined['text'] = df_combined['text'].apply(lambda x: ' '.join(map(str, x)))\n",
    "token_pattern = r\"\\b\\d+\\b\"\n",
    "vectorizer = TfidfVectorizer(token_pattern=token_pattern)\n",
    "vectorizer.fit(df_combined['text'])"
   ]
  },
  {
   "cell_type": "code",
   "execution_count": 5,
   "id": "01b59302",
   "metadata": {
    "execution": {
     "iopub.execute_input": "2024-04-25T02:14:09.232197Z",
     "iopub.status.busy": "2024-04-25T02:14:09.231348Z",
     "iopub.status.idle": "2024-04-25T02:14:22.650172Z",
     "shell.execute_reply": "2024-04-25T02:14:22.648868Z"
    },
    "papermill": {
     "duration": 13.428873,
     "end_time": "2024-04-25T02:14:22.653052",
     "exception": false,
     "start_time": "2024-04-25T02:14:09.224179",
     "status": "completed"
    },
    "tags": []
   },
   "outputs": [],
   "source": [
    "for sentence in df_testing[\"text\"]:\n",
    "  for i in range(len(sentence)):\n",
    "    if sentence[i] == 0:\n",
    "      surround = []\n",
    "      for j in range(4):\n",
    "        if (i-j) in range(len(sentence)):\n",
    "          if sentence[i-j] in Vocab_model.wv:\n",
    "            surround.append(sentence[i-j])\n",
    "\n",
    "        if (i+j) in range(len(sentence)):\n",
    "          if sentence[i+j] in Vocab_model.wv:\n",
    "            surround.append(sentence[i+j])\n",
    "\n",
    "      if surround:\n",
    "        sentence[i] = Vocab_model.wv.most_similar(positive=surround, topn=1)[0][0]\n",
    "        \n",
    "df_testing['text'] = df_testing['text'].apply(lambda x: [token for token in x if token != 0])"
   ]
  },
  {
   "cell_type": "code",
   "execution_count": 6,
   "id": "91809b5e",
   "metadata": {
    "execution": {
     "iopub.execute_input": "2024-04-25T02:14:22.665459Z",
     "iopub.status.busy": "2024-04-25T02:14:22.665024Z",
     "iopub.status.idle": "2024-04-25T02:14:22.673233Z",
     "shell.execute_reply": "2024-04-25T02:14:22.671834Z"
    },
    "papermill": {
     "duration": 0.017451,
     "end_time": "2024-04-25T02:14:22.675910",
     "exception": false,
     "start_time": "2024-04-25T02:14:22.658459",
     "status": "completed"
    },
    "tags": []
   },
   "outputs": [],
   "source": [
    "pipeline_model1 = Pipeline([\n",
    "    ('word2vec', FunctionTransformer(sentences_to_vectors, kw_args={'model': Vocab_model})),\n",
    "    ('clf', RandomForestClassifier(n_estimators=100, random_state=42))\n",
    "])\n",
    "\n",
    "pipeline_model2 = Pipeline([\n",
    "    ('preprocess', FunctionTransformer(tfidf_preprocess)),\n",
    "    ('tfidf', vectorizer),\n",
    "    ('svm',  SVC(C=1e6, kernel='rbf', gamma=1))\n",
    "])\n",
    "\n",
    "pipeline_model3 = Pipeline([\n",
    "    ('preprocess', FunctionTransformer(tfidf_preprocess)),\n",
    "    ('tfidf', vectorizer),\n",
    "    ('perceptron',  Perceptron(tol=1e-3, random_state=0))\n",
    "])"
   ]
  },
  {
   "cell_type": "code",
   "execution_count": 7,
   "id": "3ce17cf3",
   "metadata": {
    "execution": {
     "iopub.execute_input": "2024-04-25T02:14:22.688048Z",
     "iopub.status.busy": "2024-04-25T02:14:22.687619Z",
     "iopub.status.idle": "2024-04-25T02:19:05.448150Z",
     "shell.execute_reply": "2024-04-25T02:19:05.446812Z"
    },
    "papermill": {
     "duration": 282.775046,
     "end_time": "2024-04-25T02:19:05.456188",
     "exception": false,
     "start_time": "2024-04-25T02:14:22.681142",
     "status": "completed"
    },
    "tags": []
   },
   "outputs": [
    {
     "name": "stdout",
     "output_type": "stream",
     "text": [
      "starting model training\n",
      "Perceptron trained\n",
      "Random forest trained\n",
      "SVM trained\n"
     ]
    }
   ],
   "source": [
    "print(\"starting model training\")\n",
    "pipeline_model3.fit(df_training['text'], df_training['label'])\n",
    "print(\"Perceptron trained\")\n",
    "pipeline_model1.fit(df_training['text'], df_training['label'])\n",
    "print(\"Random forest trained\")\n",
    "pipeline_model2.fit(df_training['text'], df_training['label'])\n",
    "print(\"SVM trained\")"
   ]
  },
  {
   "cell_type": "code",
   "execution_count": 8,
   "id": "e753bbab",
   "metadata": {
    "execution": {
     "iopub.execute_input": "2024-04-25T02:19:05.469290Z",
     "iopub.status.busy": "2024-04-25T02:19:05.468846Z",
     "iopub.status.idle": "2024-04-25T02:19:05.475396Z",
     "shell.execute_reply": "2024-04-25T02:19:05.473982Z"
    },
    "papermill": {
     "duration": 0.015975,
     "end_time": "2024-04-25T02:19:05.477981",
     "exception": false,
     "start_time": "2024-04-25T02:19:05.462006",
     "status": "completed"
    },
    "tags": []
   },
   "outputs": [],
   "source": [
    "stacking_clf = StackingClassifier(\n",
    "    estimators=[\n",
    "        ('model1', pipeline_model1),\n",
    "        ('model2', pipeline_model2),\n",
    "        ('model3', pipeline_model3)\n",
    "    ],\n",
    "    final_estimator=LogisticRegression()\n",
    ")"
   ]
  },
  {
   "cell_type": "code",
   "execution_count": 9,
   "id": "574a2aa6",
   "metadata": {
    "execution": {
     "iopub.execute_input": "2024-04-25T02:19:05.490990Z",
     "iopub.status.busy": "2024-04-25T02:19:05.490547Z",
     "iopub.status.idle": "2024-04-25T02:34:49.657307Z",
     "shell.execute_reply": "2024-04-25T02:34:49.653412Z"
    },
    "papermill": {
     "duration": 944.18766,
     "end_time": "2024-04-25T02:34:49.671336",
     "exception": false,
     "start_time": "2024-04-25T02:19:05.483676",
     "status": "completed"
    },
    "tags": []
   },
   "outputs": [
    {
     "name": "stdout",
     "output_type": "stream",
     "text": [
      "fiting stack\n",
      "predicting classes \n",
      "predictions made\n"
     ]
    }
   ],
   "source": [
    "print(\"fiting stack\")\n",
    "stacking_clf.fit(df_training['text'], df_training['label'])\n",
    "print(\"predicting classes \")\n",
    "predictions = stacking_clf.predict(df_testing['text'])\n",
    "print(\"predictions made\")"
   ]
  },
  {
   "cell_type": "code",
   "execution_count": 10,
   "id": "6274ed7d",
   "metadata": {
    "execution": {
     "iopub.execute_input": "2024-04-25T02:34:49.697847Z",
     "iopub.status.busy": "2024-04-25T02:34:49.697159Z",
     "iopub.status.idle": "2024-04-25T02:34:49.727602Z",
     "shell.execute_reply": "2024-04-25T02:34:49.725889Z"
    },
    "papermill": {
     "duration": 0.048844,
     "end_time": "2024-04-25T02:34:49.732085",
     "exception": false,
     "start_time": "2024-04-25T02:34:49.683241",
     "status": "completed"
    },
    "tags": []
   },
   "outputs": [
    {
     "name": "stdout",
     "output_type": "stream",
     "text": [
      "Predictions saved to submission.csv\n"
     ]
    }
   ],
   "source": [
    "output_df = pd.DataFrame({\n",
    "    'id': df_testing['id'],  # Assuming 'id_column' contains the IDs\n",
    "    'class': predictions # Assuming 'predictions' contains the predicted labels\n",
    "})\n",
    "\n",
    "output_csv_file = 'submission.csv'\n",
    "\n",
    "\n",
    "output_df.to_csv(output_csv_file, index=False)\n",
    "\n",
    "print(\"Predictions saved to\", output_csv_file)"
   ]
  }
 ],
 "metadata": {
  "kaggle": {
   "accelerator": "none",
   "dataSources": [
    {
     "databundleVersionId": 8022703,
     "sourceId": 72948,
     "sourceType": "competition"
    }
   ],
   "dockerImageVersionId": 30698,
   "isGpuEnabled": false,
   "isInternetEnabled": true,
   "language": "python",
   "sourceType": "notebook"
  },
  "kernelspec": {
   "display_name": "Python 3",
   "language": "python",
   "name": "python3"
  },
  "language_info": {
   "codemirror_mode": {
    "name": "ipython",
    "version": 3
   },
   "file_extension": ".py",
   "mimetype": "text/x-python",
   "name": "python",
   "nbconvert_exporter": "python",
   "pygments_lexer": "ipython3",
   "version": "3.10.13"
  },
  "papermill": {
   "default_parameters": {},
   "duration": 1293.816225,
   "end_time": "2024-04-25T02:34:51.479008",
   "environment_variables": {},
   "exception": null,
   "input_path": "__notebook__.ipynb",
   "output_path": "__notebook__.ipynb",
   "parameters": {},
   "start_time": "2024-04-25T02:13:17.662783",
   "version": "2.5.0"
  }
 },
 "nbformat": 4,
 "nbformat_minor": 5
}
