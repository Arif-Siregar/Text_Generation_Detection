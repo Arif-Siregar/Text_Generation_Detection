{
 "cells": [
  {
   "cell_type": "code",
   "execution_count": 1,
   "id": "2a68a8df",
   "metadata": {
    "_cell_guid": "b1076dfc-b9ad-4769-8c92-a6c4dae69d19",
    "_uuid": "8f2839f25d086af736a60e9eeb907d3b93b6e0e5",
    "execution": {
     "iopub.execute_input": "2024-04-23T17:10:12.326542Z",
     "iopub.status.busy": "2024-04-23T17:10:12.326166Z",
     "iopub.status.idle": "2024-04-23T17:10:14.325373Z",
     "shell.execute_reply": "2024-04-23T17:10:14.324389Z"
    },
    "papermill": {
     "duration": 2.006157,
     "end_time": "2024-04-23T17:10:14.327560",
     "exception": false,
     "start_time": "2024-04-23T17:10:12.321403",
     "status": "completed"
    },
    "tags": []
   },
   "outputs": [
    {
     "name": "stdout",
     "output_type": "stream",
     "text": [
      "/kaggle/input/comp90051-2024s1-project-1/test_data.json\n",
      "/kaggle/input/comp90051-2024s1-project-1/sample.csv\n",
      "/kaggle/input/comp90051-2024s1-project-1/domain2_train_data.json\n",
      "/kaggle/input/comp90051-2024s1-project-1/domain1_train_data.json\n"
     ]
    }
   ],
   "source": [
    "# This Python 3 environment comes with many helpful analytics libraries installed\n",
    "# It is defined by the kaggle/python Docker image: https://github.com/kaggle/docker-python\n",
    "# For example, here's several helpful packages to load\n",
    "\n",
    "import json\n",
    "from math import log10\n",
    "from collections import Counter\n",
    "from sklearn.metrics import accuracy_score, confusion_matrix\n",
    "from sklearn.model_selection import train_test_split, StratifiedShuffleSplit, GridSearchCV\n",
    "import numpy as np # linear algebra\n",
    "import pandas as pd # data processing, CSV file I/O (e.g. pd.read_csv)\n",
    "\n",
    "# Input data files are available in the read-only \"../input/\" directory\n",
    "# For example, running this (by clicking run or pressing Shift+Enter) will list all files under the input directory\n",
    "\n",
    "import os\n",
    "for dirname, _, filenames in os.walk('/kaggle/input'):\n",
    "    for filename in filenames:\n",
    "        print(os.path.join(dirname, filename))\n",
    "\n",
    "# You can write up to 20GB to the current directory (/kaggle/working/) that gets preserved as output when you create a version using \"Save & Run All\" \n",
    "# You can also write temporary files to /kaggle/temp/, but they won't be saved outside of the current session"
   ]
  },
  {
   "cell_type": "code",
   "execution_count": 2,
   "id": "86ccd634",
   "metadata": {
    "execution": {
     "iopub.execute_input": "2024-04-23T17:10:14.335038Z",
     "iopub.status.busy": "2024-04-23T17:10:14.334603Z",
     "iopub.status.idle": "2024-04-23T17:10:15.389137Z",
     "shell.execute_reply": "2024-04-23T17:10:15.388211Z"
    },
    "papermill": {
     "duration": 1.060787,
     "end_time": "2024-04-23T17:10:15.391598",
     "exception": false,
     "start_time": "2024-04-23T17:10:14.330811",
     "status": "completed"
    },
    "tags": []
   },
   "outputs": [],
   "source": [
    "domain1_path = r\"/kaggle/input/comp90051-2024s1-project-1/domain1_train_data.json\" \n",
    "domain2_path = r\"/kaggle/input/comp90051-2024s1-project-1/domain2_train_data.json\"\n",
    "domain_official_path = r\"/kaggle/input/comp90051-2024s1-project-1/test_data.json\"\n",
    "\n",
    "def read_file(file_path):\n",
    "    f = open(file_path)\n",
    "\n",
    "    data = []\n",
    "    for line in f:\n",
    "        data.append(json.loads(line))\n",
    "        \n",
    "    return data\n",
    "        \n",
    "data1 = read_file(domain1_path)\n",
    "data2 = read_file(domain2_path)\n",
    "data_official = read_file(domain_official_path)\n",
    "\n",
    "X1 = [data[\"text\"] for data in data1]\n",
    "y1 = [data[\"label\"] for data in data1]\n",
    "\n",
    "X2 = [data[\"text\"] for data in data2]\n",
    "y2 = [data[\"label\"] for data in data2]\n",
    "\n",
    "X_official = [data[\"text\"] for data in data_official]"
   ]
  },
  {
   "cell_type": "code",
   "execution_count": 3,
   "id": "c6ead439",
   "metadata": {
    "execution": {
     "iopub.execute_input": "2024-04-23T17:10:15.398897Z",
     "iopub.status.busy": "2024-04-23T17:10:15.398554Z",
     "iopub.status.idle": "2024-04-23T17:10:15.407081Z",
     "shell.execute_reply": "2024-04-23T17:10:15.406158Z"
    },
    "papermill": {
     "duration": 0.014495,
     "end_time": "2024-04-23T17:10:15.409142",
     "exception": false,
     "start_time": "2024-04-23T17:10:15.394647",
     "status": "completed"
    },
    "tags": []
   },
   "outputs": [],
   "source": [
    "def generate_probs(data):\n",
    "  words = {}\n",
    "  probs = {}\n",
    "\n",
    "  for text in data:\n",
    "    for i in range(len(text) - 1):\n",
    "      if text[i] in words:\n",
    "        words[text[i]] += 1\n",
    "      else:\n",
    "        words[text[i]] = 1\n",
    "\n",
    "      if (text[i], text[i+1]) in probs:\n",
    "        probs[(text[i], text[i+1])] += 1\n",
    "      else:\n",
    "        probs[(text[i], text[i+1])] = 1\n",
    "\n",
    "  for (key, value) in probs.items():\n",
    "    probs[key] /= words[key[0]]\n",
    "\n",
    "  return probs"
   ]
  },
  {
   "cell_type": "code",
   "execution_count": 4,
   "id": "5fdeb682",
   "metadata": {
    "execution": {
     "iopub.execute_input": "2024-04-23T17:10:15.416764Z",
     "iopub.status.busy": "2024-04-23T17:10:15.415951Z",
     "iopub.status.idle": "2024-04-23T17:10:15.422392Z",
     "shell.execute_reply": "2024-04-23T17:10:15.421389Z"
    },
    "papermill": {
     "duration": 0.012445,
     "end_time": "2024-04-23T17:10:15.424587",
     "exception": false,
     "start_time": "2024-04-23T17:10:15.412142",
     "status": "completed"
    },
    "tags": []
   },
   "outputs": [],
   "source": [
    "def prob_log(text, machine_probs, human_probs):\n",
    "  temp = 0\n",
    "  for i in range(len(text) - 1):\n",
    "    if (text[i], text[i+1]) not in machine_probs:\n",
    "      temp += 10\n",
    "    else:\n",
    "      temp += log10(machine_probs[(text[i], text[i+1])]) * -1\n",
    "\n",
    "    if (text[i], text[i+1]) not in human_probs:\n",
    "      temp -= 10\n",
    "    else:\n",
    "      temp -= log10(human_probs[(text[i], text[i+1])]) * -1\n",
    "\n",
    "  return temp/len(text)"
   ]
  },
  {
   "cell_type": "code",
   "execution_count": 5,
   "id": "3188a250",
   "metadata": {
    "execution": {
     "iopub.execute_input": "2024-04-23T17:10:15.431938Z",
     "iopub.status.busy": "2024-04-23T17:10:15.431609Z",
     "iopub.status.idle": "2024-04-23T17:10:15.442128Z",
     "shell.execute_reply": "2024-04-23T17:10:15.441202Z"
    },
    "papermill": {
     "duration": 0.016766,
     "end_time": "2024-04-23T17:10:15.444384",
     "exception": false,
     "start_time": "2024-04-23T17:10:15.427618",
     "status": "completed"
    },
    "tags": []
   },
   "outputs": [],
   "source": [
    "machine_X1 = [X1[i] for i in range(len(y1)) if y1[i] == 0]\n",
    "human_X1 = [X1[i] for i in range(len(y1)) if y1[i] == 1]\n",
    "\n",
    "machine_X2 = [X2[i] for i in range(len(y2)) if y2[i] == 0]\n",
    "human_X2 = [X2[i] for i in range(len(y2)) if y2[i] == 1]"
   ]
  },
  {
   "cell_type": "code",
   "execution_count": 6,
   "id": "2f8c1b33",
   "metadata": {
    "execution": {
     "iopub.execute_input": "2024-04-23T17:10:15.452035Z",
     "iopub.status.busy": "2024-04-23T17:10:15.451678Z",
     "iopub.status.idle": "2024-04-23T17:10:22.948301Z",
     "shell.execute_reply": "2024-04-23T17:10:22.947296Z"
    },
    "papermill": {
     "duration": 7.503056,
     "end_time": "2024-04-23T17:10:22.950690",
     "exception": false,
     "start_time": "2024-04-23T17:10:15.447634",
     "status": "completed"
    },
    "tags": []
   },
   "outputs": [],
   "source": [
    "human_probs = generate_probs(human_X1 + human_X2)\n",
    "\n",
    "machine_probs_list = []\n",
    "\n",
    "len_part = int(len(machine_X2)/7)\n",
    "for i in range(7):\n",
    "  machine_probs_list.append(generate_probs(machine_X1 + machine_X2[i*len_part: (i+1) * len_part]))"
   ]
  },
  {
   "cell_type": "code",
   "execution_count": 7,
   "id": "f139187c",
   "metadata": {
    "execution": {
     "iopub.execute_input": "2024-04-23T17:10:22.957933Z",
     "iopub.status.busy": "2024-04-23T17:10:22.957566Z",
     "iopub.status.idle": "2024-04-23T17:10:30.483854Z",
     "shell.execute_reply": "2024-04-23T17:10:30.482916Z"
    },
    "papermill": {
     "duration": 7.532994,
     "end_time": "2024-04-23T17:10:30.486678",
     "exception": false,
     "start_time": "2024-04-23T17:10:22.953684",
     "status": "completed"
    },
    "tags": []
   },
   "outputs": [],
   "source": [
    "y_official = []\n",
    "for i in range(len(X_official)):\n",
    "  temp = 0\n",
    "  for j in range(len(machine_probs_list)):\n",
    "    if prob_log(X_official[i], machine_probs_list[j], human_probs) >= 0:\n",
    "      temp += 1\n",
    "  if temp > 1:\n",
    "    y_official.append(1)\n",
    "  else:\n",
    "    y_official.append(0)"
   ]
  },
  {
   "cell_type": "code",
   "execution_count": 8,
   "id": "a8f43b5f",
   "metadata": {
    "execution": {
     "iopub.execute_input": "2024-04-23T17:10:30.493969Z",
     "iopub.status.busy": "2024-04-23T17:10:30.493626Z",
     "iopub.status.idle": "2024-04-23T17:10:30.510349Z",
     "shell.execute_reply": "2024-04-23T17:10:30.509418Z"
    },
    "papermill": {
     "duration": 0.023212,
     "end_time": "2024-04-23T17:10:30.512954",
     "exception": false,
     "start_time": "2024-04-23T17:10:30.489742",
     "status": "completed"
    },
    "tags": []
   },
   "outputs": [],
   "source": [
    "id = range(4000)\n",
    "answer = pd.DataFrame({'id': id, 'class': y_official})\n",
    "\n",
    "answer.to_csv('submission.csv', index=False)"
   ]
  }
 ],
 "metadata": {
  "kaggle": {
   "accelerator": "none",
   "dataSources": [
    {
     "databundleVersionId": 8022703,
     "sourceId": 72948,
     "sourceType": "competition"
    }
   ],
   "dockerImageVersionId": 30702,
   "isGpuEnabled": false,
   "isInternetEnabled": true,
   "language": "python",
   "sourceType": "notebook"
  },
  "kernelspec": {
   "display_name": "Python 3",
   "language": "python",
   "name": "python3"
  },
  "language_info": {
   "codemirror_mode": {
    "name": "ipython",
    "version": 3
   },
   "file_extension": ".py",
   "mimetype": "text/x-python",
   "name": "python",
   "nbconvert_exporter": "python",
   "pygments_lexer": "ipython3",
   "version": "3.10.13"
  },
  "papermill": {
   "default_parameters": {},
   "duration": 21.580711,
   "end_time": "2024-04-23T17:10:31.336855",
   "environment_variables": {},
   "exception": null,
   "input_path": "__notebook__.ipynb",
   "output_path": "__notebook__.ipynb",
   "parameters": {},
   "start_time": "2024-04-23T17:10:09.756144",
   "version": "2.5.0"
  }
 },
 "nbformat": 4,
 "nbformat_minor": 5
}
